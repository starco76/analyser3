{
 "cells": [
  {
   "cell_type": "code",
   "execution_count": 51,
   "metadata": {},
   "outputs": [],
   "source": [
    "d =[2.50,1.41,1.94,1.11,2.75,2.43,2.51,1.08,2.06,5.89,4.19,1.94,217.57,12.05,1.19,5.40,1.22]\n",
    "# ,1.24,1.00,1.45,2.00,3.11,1.23,5.33,6.07,1.53,1.02,1.84,3.88,1.14,1.52,1.55,1.30,6.22,2.13,17.22,5.84,1.52,7.81,2.02,14.08,2.03,1.35,1.10,23.54,2.04,21.21,17.72,1.79,1.02,3.54,1.55,6.13,2.15,1.46,2.11,40.73,17.23,1.48,2.72,2.79,1.36,93.29,5.72,1.12,1.17,1.29,4.77,24.98,1.38,1.14,3.49,1.07,43.39,1.29,2.03,1.08,1.10,1.52,2.10,1.36,1.24,6.27,2.00,1.92,2.51,1.84,1.35,1.42,17.15,1.43,1.58,4.77,1.65,2.53,24.96,1.80,6.79,1.33,1.79,2.19,1.35,1.33,1.10,1.24,1.29,1.04,1.19,3.24,1.49,1.22,1.88,7.75,1.06,4.66,1.22,67.98,4.23,1.03,3.90,3.12,1.50,4.14,1.32,78.22,1.80,1.49,1.84,1.95,1.11,1.38,1.20,1.94,1.57,1.26,2.14,1.61,21.11,1.57,1.27,2.01,1.07,1.04,1.18,1.00,2.47,2.87,5.64,1.09,1.80,1.63,1.11,1.26,1.34,1.04,1.17,5.07,57.75,29.44,1.37,1.04,4.42,1.00,1.95,1.13,2.01,1.39,12.87]"
   ]
  },
  {
   "cell_type": "code",
   "execution_count": 109,
   "metadata": {},
   "outputs": [],
   "source": [
    "d =[1.23,2.36,1.17,4.56,1.75,9.98,2.36,5.47,1.11,2.20,2.29,1.68  ]\n"
   ]
  },
  {
   "cell_type": "code",
   "execution_count": 4,
   "metadata": {},
   "outputs": [],
   "source": [
    "def sum_digits_string(number):\n",
    "    number = str(number)\n",
    "    res = number.split('.')\n",
    "    out = int(res[0])\n",
    "    if len(res)==2:\n",
    "        out+= int(res[1])\n",
    "    return out"
   ]
  },
  {
   "cell_type": "code",
   "execution_count": 5,
   "metadata": {},
   "outputs": [
    {
     "data": {
      "text/plain": [
       "102"
      ]
     },
     "execution_count": 5,
     "metadata": {},
     "output_type": "execute_result"
    }
   ],
   "source": [
    "sum_digits_string(5.97)"
   ]
  },
  {
   "cell_type": "code",
   "execution_count": 95,
   "metadata": {},
   "outputs": [
    {
     "data": {
      "text/plain": [
       "150.0"
      ]
     },
     "execution_count": 95,
     "metadata": {},
     "output_type": "execute_result"
    }
   ],
   "source": [
    "(100*1.8)-100+(-50)+(100*.8)+(50*.8)"
   ]
  },
  {
   "cell_type": "code",
   "execution_count": 101,
   "metadata": {},
   "outputs": [
    {
     "data": {
      "text/plain": [
       "170"
      ]
     },
     "execution_count": 101,
     "metadata": {},
     "output_type": "execute_result"
    }
   ],
   "source": [
    "80+(-50)+80+40+20\n",
    "# +80+(-50)+(-100)"
   ]
  },
  {
   "cell_type": "code",
   "execution_count": null,
   "metadata": {},
   "outputs": [],
   "source": []
  }
 ],
 "metadata": {
  "kernelspec": {
   "display_name": "Python 3.10.4 64-bit",
   "language": "python",
   "name": "python3"
  },
  "language_info": {
   "codemirror_mode": {
    "name": "ipython",
    "version": 3
   },
   "file_extension": ".py",
   "mimetype": "text/x-python",
   "name": "python",
   "nbconvert_exporter": "python",
   "pygments_lexer": "ipython3",
   "version": "3.10.4"
  },
  "orig_nbformat": 4,
  "vscode": {
   "interpreter": {
    "hash": "916dbcbb3f70747c44a77c7bcd40155683ae19c65e1c03b4aa3499c5328201f1"
   }
  }
 },
 "nbformat": 4,
 "nbformat_minor": 2
}
